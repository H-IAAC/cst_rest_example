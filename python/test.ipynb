{
 "cells": [
  {
   "cell_type": "code",
   "execution_count": 31,
   "metadata": {},
   "outputs": [],
   "source": [
    "import requests"
   ]
  },
  {
   "cell_type": "code",
   "execution_count": 38,
   "metadata": {},
   "outputs": [
    {
     "data": {
      "text/plain": [
       "['Ich sagte, ooh, ich bin von den Lichtern geblendet',\n",
       " 'Nein, ich kann erst schlafen, wenn ich deine Berührung fühle.',\n",
       " 'Ich sagte, ooh, ich ertrinke in der Nacht',\n",
       " 'Oh, wenn ich so bin, bist du derjenige, dem ich vertraue.']"
      ]
     },
     "execution_count": 38,
     "metadata": {},
     "output_type": "execute_result"
    }
   ],
   "source": [
    "host = '127.0.0.1'\n",
    "port = str(5000)\n",
    "en_text = [\"I said, ooh, I'm blinded by the lights\",  \"No, I can't sleep until I feel your touch\",  \"I said, ooh, I'm drowning in the night\",  \"Oh, when I'm like this, you're the one I trust\"]\n",
    "response = requests.post(f'http://{host}:{port}/translate/', json={'en_text': en_text})\n",
    "\n",
    "response.json()"
   ]
  }
 ],
 "metadata": {
  "kernelspec": {
   "display_name": ".venv",
   "language": "python",
   "name": "python3"
  },
  "language_info": {
   "codemirror_mode": {
    "name": "ipython",
    "version": 3
   },
   "file_extension": ".py",
   "mimetype": "text/x-python",
   "name": "python",
   "nbconvert_exporter": "python",
   "pygments_lexer": "ipython3",
   "version": "3.8.10"
  },
  "orig_nbformat": 4
 },
 "nbformat": 4,
 "nbformat_minor": 2
}
